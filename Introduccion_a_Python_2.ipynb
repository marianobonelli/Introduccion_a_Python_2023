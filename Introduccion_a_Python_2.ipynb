{
  "nbformat": 4,
  "nbformat_minor": 0,
  "metadata": {
    "colab": {
      "provenance": [],
      "toc_visible": true,
      "authorship_tag": "ABX9TyMfQCQrgAOnUVNTuIDIsKKK",
      "include_colab_link": true
    },
    "kernelspec": {
      "name": "python3",
      "display_name": "Python 3"
    },
    "language_info": {
      "name": "python"
    }
  },
  "cells": [
    {
      "cell_type": "markdown",
      "metadata": {
        "id": "view-in-github",
        "colab_type": "text"
      },
      "source": [
        "<a href=\"https://colab.research.google.com/github/marianobonelli/Introduccion_a_Python_2023/blob/main/Introduccion_a_Python_2.ipynb\" target=\"_parent\"><img src=\"https://colab.research.google.com/assets/colab-badge.svg\" alt=\"Open In Colab\"/></a>"
      ]
    },
    {
      "cell_type": "markdown",
      "source": [
        "# Introducción a la programación y análisis de datos con Python orientado a la producción agropecuaria\n",
        "\n",
        "[![Cronograma](https://img.shields.io/badge/-Cronograma-blue?style=flat&logo=google-docs&logoColor=white)](https://docs.google.com/document/d/1wDjkT1pYXirQgByWfcu82Szsbn8249sRxHX0E7leNog/edit?usp=sharing)\n",
        "[![Canal de Discord](https://img.shields.io/badge/-Discord-blue?style=flat&logo=discord&logoColor=white)](https://discord.gg/WaA2uTp4)\n",
        "[![Video de la clase](https://img.shields.io/badge/-Video%20de%20la%20clase-blue?style=flat&logo=youtube&logoColor=white)](https://)\n",
        "[![Repositorio de GitHub](https://img.shields.io/badge/-Repositorio%20de%20GitHub-blue?style=flat&logo=github&logoColor=white)](https://github.com/marianobonelli/Introduccion_a_Python_2023)\n",
        "\n",
        "\n",
        "---\n",
        "\n",
        "\n",
        "\n",
        "**Clase 2: Miércoles 08 de noviembre**\n",
        "\n",
        "Control de flujo y funciones:\n",
        "\n",
        "* Control de flujo (if, while, for).\n",
        "\n",
        "* Funciones.\n",
        "\n",
        "\n",
        "---"
      ],
      "metadata": {
        "id": "rMMzXSjZZrIX"
      }
    },
    {
      "cell_type": "markdown",
      "source": [
        "# Control de Flujo\n",
        "Los programas siguen un \"flujo\" definido por el programador. Hasta ahora el flujo del programa siempre fue uno sólo, se ejecuta una instrucción, luego la siguiente, luego la siguiente a esta, etc. Sin embargo es posible realizar tareas diferentes dependiendo de ciertas condiciones, repetir segmentos de código, y modificar el flujo del programa de forma que no sea simplemente una secuencia lineal de instrucciones. Esto permite realizar tareas mucho más complejas, en la cuál el programa tome decisiones respecto a lo que debe hacer en función de la situación.\n",
        "\n",
        "Notar que todas estas estructuras terminan con un \"**:**\" , y la siguiente línea tiene un tab de indentación (como una sangría)."
      ],
      "metadata": {
        "id": "sSFqhMDfFStv"
      }
    },
    {
      "cell_type": "markdown",
      "source": [
        "##   Estructura if\n",
        "\n",
        "El **if** es la estructura básica que le permite al programador analizar si se cumple una condición, y realizar distintas acciones según si eso sucede o no. Las distintas formas de implementar la estructura son las siguientes:\n",
        "\n",
        "```python\n",
        "if (condicion):\n",
        "    #Lo que se hace si se cumple la condición\n",
        "```\n",
        "```python\n",
        "if (condicion):\n",
        "    #Lo que se hace si se cumple la condición\n",
        "else:\n",
        "    #Lo que se hace si no se cumple la condición\n",
        "```\n",
        "```python\n",
        "if (condicion1):\n",
        "    #Lo que se hace si se cumple la condición1\n",
        "elif (condicion2):\n",
        "    #Lo que se hace si no se cumple la condicion1, pero sí la condicion2\n",
        "elif (condicion3):\n",
        "    #Lo que se hace si no se cumple la condicion1 ni la condición2, pero sí la condición3\n",
        "else:\n",
        "    #Lo que se hace si no se cumple ninguna condición\n",
        "```\n",
        "    \n",
        "Se debe prestar especial atención a la indentación/tabulación. Siempre que se define un **if** se crea un bloque de código (un conjunto de instrucciones) que son las que se ejecutan cuando se cumple la condición dada. Este bloque de código debe tener una \"sangría\", de esta forma Python comprende donde empieza y donde termina este bloque. Si se utiliza la \"sangría\" incorrectamente Python indicará que hay un error en el código y no se podrá ejecutar.\n",
        "\n",
        "Siempre se comienza con **if**, después puede haber cualquier cantidad de **elif** (o ninguno) y luego se puede terminar con **else** (o no). Luego del **else** no puede haber más **elif**.\n",
        "\n",
        " ¿Cual será la salida del siguiente programa?"
      ],
      "metadata": {
        "id": "Sk-DAR4MFXHT"
      }
    },
    {
      "cell_type": "code",
      "source": [
        "x = 5\n",
        "y = 6\n",
        "if x == y:\n",
        "    print(x)\n",
        "elif y < 5 or y > 7:\n",
        "    print(x + y)\n",
        "else:\n",
        "    print(y)"
      ],
      "metadata": {
        "id": "wWGBXydLFe__"
      },
      "execution_count": null,
      "outputs": []
    },
    {
      "cell_type": "code",
      "source": [
        "y = int(input(\"Ingrese el valor de y\"))\n",
        "if y == 13:\n",
        "    print(\"Adivinamos el valor de y!\")\n",
        "\n",
        "x = int(input(\"Ingrese el valor de x\"))\n",
        "if x == 93:\n",
        "    print(\"Adivinamos el valor de x!\")\n",
        "else:\n",
        "    print(\"No adivinamos el valor de x  :(\")\n",
        "\n",
        "if x > y:\n",
        "    print(\"x es mayor que y\")\n",
        "elif x < y:\n",
        "    print(\"y es mayor que x\")\n",
        "elif x == y:\n",
        "    print(\"x e y son iguales\")\n",
        "else:\n",
        "    print(\"que anda pasando?\")"
      ],
      "metadata": {
        "id": "ENYdBzmQFhfF"
      },
      "execution_count": null,
      "outputs": []
    },
    {
      "cell_type": "markdown",
      "source": [
        "**Tips**\n",
        "\n",
        "Para indentar y desindentar, se usa la tecla *tabulador* junto con la tecla *shift/mayus*. Recomendamos que busquen en su teclado esta tecla y si no la conocen, pueder pedirle ayuda a Google.\n",
        "\n",
        "Si se quiere añadir o quitar tabulaciones a varias líneas, pueden seleccionarlas primero."
      ],
      "metadata": {
        "id": "wYIlKfGgFptj"
      }
    },
    {
      "cell_type": "markdown",
      "source": [
        "##  Estructura while\n",
        "\n",
        "La estructura **while** permite implementar *ciclos* en nuestro programa (también llamados *loops* o *bucles*). Es decir, repetir una porción del código una y otra vez en tanto se verifique cierta condición. La estructura básica es la siguiente:\n",
        "\n",
        "\n",
        "\n",
        "```python\n",
        "while (condicion):\n",
        "    #Lo que se hace mientras que se cumpla la condicion\n",
        "    #Debe incluirse una operación que modifique la condición\n",
        "```\n",
        "\n",
        "En el siguiente bloque de código pueden ver a esta estructura en acción:"
      ],
      "metadata": {
        "id": "6lqd0eFyFrpr"
      }
    },
    {
      "cell_type": "code",
      "source": [
        "x = 1\n",
        "while x < 10:\n",
        "    print(x)\n",
        "    x += 1\n",
        "\n",
        "print('Termina el while')\n",
        "\n",
        "print(\"Continuo con el resto del programa\")"
      ],
      "metadata": {
        "id": "1CAdXND0Fw1m"
      },
      "execution_count": null,
      "outputs": []
    },
    {
      "cell_type": "markdown",
      "source": [
        "Es importante tener en cuenta que la condición se evalúa sólo al principio del ciclo y no se volverá a evaluar hasta no terminar de ejecutar todas las instrucciones contenidas en el bloque **while**.\n",
        "\n",
        "Al usar una variable auxiliar para contar la cantidad de repeticiones del while, es recomendable no modificar su valor dentro del bloque excepto para incrementar/decrementar su valor acordemente. Esto es porque se corre el riesgo de que la condición siempre sea *True* y el **while** se ejecute infinitamente, además es dificil darse cuenta de que la cantidad de ciclos será de hecho la que queremos.\n",
        "\n",
        "¿Qué realiza este programa?"
      ],
      "metadata": {
        "id": "jbwVm7dlF0-B"
      }
    },
    {
      "cell_type": "code",
      "source": [
        "nota = int( input('Ingrese un número del 1 al 10: ') )\n",
        "\n",
        "while nota < 1 or nota > 10:\n",
        "  print('Fuera de rango!')\n",
        "  nota = int( input('Ingrese un número del 1 al 10: ') )\n",
        "\n",
        "print(\"La nota es mayor a 4?\", nota >= 4 )"
      ],
      "metadata": {
        "id": "Mxy5MdgpF3C9"
      },
      "execution_count": null,
      "outputs": []
    },
    {
      "cell_type": "markdown",
      "source": [
        "**Prolijidad y buenas prácticas**\n",
        "\n",
        "Recordar: siempre que se excriba un bucle while, se debe modificar en algún punto la condición que controla su ejecución. Bajo ninguna circunstancia puede entregarse un programa con bucles cuyo fin no es seguro. ¿O acaso a alguien le gusta que su computadora se quede colgada?"
      ],
      "metadata": {
        "id": "lqVEOQ1KF3vT"
      }
    },
    {
      "cell_type": "markdown",
      "source": [
        "## Estructura for\n",
        "\n",
        "La estructura del **for** permite realizar una serie de acciones con una variable, que cambia su valor en cada repetición (también llamada *iteración*).\n",
        "\n",
        "```python\n",
        "for (variable) in (conjunto de valores):\n",
        "    #Lo que quieras hacer con tu variable\n",
        "```\n",
        "\n",
        "Veámoslo en un ejemplo de código:"
      ],
      "metadata": {
        "id": "aJKigKoFF7Ol"
      }
    },
    {
      "cell_type": "code",
      "source": [
        "for i in range(15):\n",
        "    print(i)"
      ],
      "metadata": {
        "id": "l1OjSwQnF-t9"
      },
      "execution_count": null,
      "outputs": []
    },
    {
      "cell_type": "markdown",
      "source": [
        "La instrucción `range(a,b,d)` genera los valores desde *a* hasta *b* (sin incluir) con incrementos de *d*, por ejemplo el siguiente codigo generara los numeros pares entre 0 y 10:"
      ],
      "metadata": {
        "id": "Zy2mj6ARGAVP"
      }
    },
    {
      "cell_type": "code",
      "source": [
        "for x in range(0,10,2):\n",
        "    print(x)"
      ],
      "metadata": {
        "id": "r2LWUDkxGC74"
      },
      "execution_count": null,
      "outputs": []
    },
    {
      "cell_type": "code",
      "source": [
        "init = int(input(\"Ingrese el inicio:\"))\n",
        "fin = int(input(\"Ingrese el fin:\"))\n",
        "step = int(input(\"Ingrese el salto:\"))\n",
        "\n",
        "for x in range(init, fin, step):\n",
        "    print(\"x =\", x)"
      ],
      "metadata": {
        "id": "8sztkJw3GHiE"
      },
      "execution_count": null,
      "outputs": []
    },
    {
      "cell_type": "markdown",
      "source": [
        "Al utilizar la instrucción **range( )** no es necesario proporcionar siempre los 3 parámetros. Observen qué sucede cuando se proporcionan solamente 1 o 2 parámetros:"
      ],
      "metadata": {
        "id": "arWMp9E8GSzF"
      }
    },
    {
      "cell_type": "code",
      "source": [
        "print(\"range(5):\")\n",
        "for x in range(5):\n",
        "    print(x)\n",
        "\n",
        "print(\"range(10, 15):\")\n",
        "for x in range(10, 15):\n",
        "    print(x)"
      ],
      "metadata": {
        "id": "F6gaJ4rOGTo4"
      },
      "execution_count": null,
      "outputs": []
    },
    {
      "cell_type": "markdown",
      "source": [
        "# Funciones\n",
        "\n",
        "Podemos pensar que una función es como tomar un conjunto de instrucciones y empaquetarlas bajo el mismo nombre, es como un pequeño programa dentro del programa, una manera de crear nuestras propias instrucciones. Las funciones son bloques que nos permiten acortar el código, no repitiendo estructuras que necesitamos utilizar mucho. Al igual que los programas las funciones tienen un *input* y un *output*: el input son las variables de entrada y su output es el valor o valores que devuelven.\n",
        "\n",
        "Por ejemplo, supongamos que frecuentemente necesito calcular las ganancias totales generadas por cierto producto que se encuentra a la venta en mi negocio. Cada vez que quiera realizar este cálculo tendré que obtener el costo de venta, restarle el costo de fabricación y multiplicarlo por la cantidad de ventas. Usando una función puedo crear mi propia instrucción a la que se le ingrese el código de producto y devuelva el resultado. Así puedo escribir el nombre de la función cada vez que quiera hacer este cálculo sin tener que escribir nuevamente el procedimiento completo.\n",
        "\n",
        "En Python las funciones se implementan de la siguiente forma:\n",
        "\n",
        "```python\n",
        "def miFuncion( a , b , c , ...):\n",
        "    \n",
        "    #Hago lo que necesite con las variables a, b, c, ...\n",
        "    \n",
        "    return x , y , z , ...\n",
        "```\n",
        "En este ejemplo, el nombre de la función es `miFuncion`, los parámetros de entrada son las variables `a , b , c , ...` que se indican entre paréntesis, y los parámetros que la función devuelve son `x , y , z , ...` que se indican con la instrucción **return**.\n",
        "\n",
        "En el caso de que la función no necesite recibir información, los paréntesis se deben dejar vacíos. Al ejecutar la función no hay que olvidarse de escribir estos paréntesis, incluso aunque estén vacíos. Es la forma que tiene Python de diferenciar variables de funciones:"
      ],
      "metadata": {
        "id": "lz6Wp_0aGhSt"
      }
    },
    {
      "cell_type": "code",
      "source": [
        "def saludar():\n",
        "    print( \"¡Hola! Que tengas un buen día :)\")\n",
        "\n",
        "print(\"A continuación se imprimirán tres saludos:\")\n",
        "saludar()\n",
        "saludar()\n",
        "saludar()"
      ],
      "metadata": {
        "id": "9bHpYFBkGlR8"
      },
      "execution_count": null,
      "outputs": []
    },
    {
      "cell_type": "markdown",
      "source": [
        "Noten que no siempre es necesario poner la instrucción **return** al final de la función. En este caso la función termina cuando finaliza el bloque indentado (con sangría).\n",
        "\n",
        "Es importante tener en cuenta que la *definición* de la función no provoca ninguna acción, solamente le indica a la computadora que la próxima vez que se escriba el nombre de la función, esta debe realizar las instrucciones indicadas por la definición. En consecuencia, en preferible escribir todas las definiciones de funciones al inicio del programa, así estarán definidas para cuando se las quiera ejecutar más adelante.\n",
        "\n",
        "Veamos un ejemplo:"
      ],
      "metadata": {
        "id": "APXn4gKvGrH2"
      }
    },
    {
      "cell_type": "code",
      "source": [
        "def suma(a, b):\n",
        "    s = a + b\n",
        "    return s\n",
        "\n",
        "z = suma(3, 4)\n",
        "print(\"3 + 4 =\", z)\n",
        "\n",
        "x = int(input(\"Ingrese el primer sumando: \"))\n",
        "y = int(input(\"Ingrese el segundo sumando: \"))\n",
        "z = suma(x, y)\n",
        "print(\"x + y =\", z)"
      ],
      "metadata": {
        "id": "iMRTJCeTGt0z"
      },
      "execution_count": null,
      "outputs": []
    },
    {
      "cell_type": "markdown",
      "source": [
        "En este ejemplo podemos ver que los nombres que le damos a las variables de input (`a, b`) son utilizados de forma interna a la función. Cuando ejecutamos la función con los valores `3` y `4`, las variables pasan a tomar estos valores y luego se ejecutan las instrucciones correspondientes. Cuando ejecutamos la función con los parámetros `x, y` lo que sucede es que `a` y `b` copian los valores de estas variables indicadas.\n",
        "\n",
        "La instrucción **return** sirve para indicar el resultado que la función \"devuelve\". Una vez que se alcanza la instrucción **return** la función termina y devuelve el valor indicado. En general es preferible devolver información usando **return** antes que imprimirla usando **print** ya que esto permite reutilizar la función para una cantidad de casos mayor, donde no siempre quiero mostrar el resultado en pantalla, aunque queda a criterio de cada uno para lo que necesite.\n",
        "\n",
        "Al concepto de función también podemos combinarlo con las estructuras que vimos previamente:"
      ],
      "metadata": {
        "id": "D5jtuTmpGuSw"
      }
    },
    {
      "cell_type": "code",
      "source": [
        "def chequarContraseña(c):\n",
        "    if c == \"Secreto\":\n",
        "        resultado = True\n",
        "    else:\n",
        "        resultado = False\n",
        "    return resultado\n",
        "\n",
        "\n",
        "ingresado = input(\"Ingrese contraseña: \")\n",
        "while not chequarContraseña(ingresado):\n",
        "    ingresado = input(\"Contraseña incorrecta. Ingrese de nuevo:\")\n",
        "else:\n",
        "    print(\"Contraseña correcta.\")"
      ],
      "metadata": {
        "id": "IvMEDD1eGwQp"
      },
      "execution_count": null,
      "outputs": []
    },
    {
      "cell_type": "markdown",
      "source": [
        "¿Se dieron cuenta que la forma que usamos para imprimir una variable es una función? **print**( ... ) lo que hace es llamar a una función ya creada que está en el estándar de Python y permite que mostremos el contendido que se le pase como parámetro a la función."
      ],
      "metadata": {
        "id": "XlD7LLgvGyX-"
      }
    }
  ]
}