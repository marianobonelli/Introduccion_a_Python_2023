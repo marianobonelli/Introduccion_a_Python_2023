{
  "nbformat": 4,
  "nbformat_minor": 0,
  "metadata": {
    "colab": {
      "provenance": [],
      "toc_visible": true,
      "include_colab_link": true
    },
    "kernelspec": {
      "name": "python3",
      "display_name": "Python 3"
    },
    "language_info": {
      "name": "python"
    }
  },
  "cells": [
    {
      "cell_type": "markdown",
      "metadata": {
        "id": "view-in-github",
        "colab_type": "text"
      },
      "source": [
        "<a href=\"https://colab.research.google.com/github/marianobonelli/Introduccion_a_Python_2023/blob/main/Introduccion_a_Python_5.ipynb\" target=\"_parent\"><img src=\"https://colab.research.google.com/assets/colab-badge.svg\" alt=\"Open In Colab\"/></a>"
      ]
    },
    {
      "cell_type": "markdown",
      "source": [
        "# Introducción a la programación y análisis de datos con Python orientado a la producción agropecuaria\n",
        "\n",
        "[![Cronograma](https://img.shields.io/badge/-Cronograma-blue?style=flat&logo=google-docs&logoColor=white)](https://docs.google.com/document/d/1wDjkT1pYXirQgByWfcu82Szsbn8249sRxHX0E7leNog/edit?usp=sharing)\n",
        "[![Canal de Discord](https://img.shields.io/badge/-Discord-blue?style=flat&logo=discord&logoColor=white)](https://discord.gg/WaA2uTp4)\n",
        "[![Video de la clase](https://img.shields.io/badge/-Video%20de%20la%20clase-blue?style=flat&logo=youtube&logoColor=white)](https://youtu.be/LJmJhC7tD-s)\n",
        "[![Repositorio de GitHub](https://img.shields.io/badge/-Repositorio%20de%20GitHub-blue?style=flat&logo=github&logoColor=white)](https://github.com/marianobonelli/Introduccion_a_Python_2023)\n",
        "\n",
        "\n",
        "---\n",
        "\n",
        "\n",
        "\n",
        "**Clase 5: Miércoles 22 de noviembre**\n",
        "\n",
        "\n",
        "Introducción a librerías - Parte II:\n",
        "\n",
        "* Uso de matplotlib, seaborn y plotly para visualizar datos.\n",
        "\n",
        "* Mapas y geolocalización con geopandas y folium.\n",
        "\n",
        "---"
      ],
      "metadata": {
        "id": "Al-INYTSu9hm"
      }
    },
    {
      "cell_type": "markdown",
      "source": [
        "# Uso de matplotlib, seaborn y plotly para visualizar datos.\n",
        "\n",
        "Cada una de estas bibliotecas tiene su propósito y fortalezas: Matplotlib para control detallado, Seaborn para gráficos estadísticos de alta calidad con menos código, y Plotly para interactividad y presentaciones web."
      ],
      "metadata": {
        "id": "iTU_oB5BPLL5"
      }
    },
    {
      "cell_type": "markdown",
      "source": [
        "## Importamos un dataset de prueba:"
      ],
      "metadata": {
        "id": "BE66gCjzeqUE"
      }
    },
    {
      "cell_type": "code",
      "source": [
        "import seaborn as sns\n",
        "\n",
        "# Cargando el conjunto de datos de ejemplo de Seaborn\n",
        "iris = sns.load_dataset(\"iris\")\n",
        "iris"
      ],
      "metadata": {
        "id": "_-MiU6anOjRl"
      },
      "execution_count": null,
      "outputs": []
    },
    {
      "cell_type": "code",
      "source": [
        "iris.describe()"
      ],
      "metadata": {
        "id": "wd4hVLUidy9d"
      },
      "execution_count": null,
      "outputs": []
    },
    {
      "cell_type": "code",
      "source": [
        "iris.info()"
      ],
      "metadata": {
        "id": "tkgRqnEMd2As"
      },
      "execution_count": null,
      "outputs": []
    },
    {
      "cell_type": "markdown",
      "source": [
        "## Matplotlib\n",
        "\n",
        "[<img src=\"https://matplotlib.org/_static/logo_dark.svg\" width=200px>](https://matplotlib.org/stable/gallery/index)\n",
        "\n"
      ],
      "metadata": {
        "id": "hM7PUJCaVpko"
      }
    },
    {
      "cell_type": "markdown",
      "source": [
        "### Características\n",
        "\n",
        "Matplotlib es una biblioteca de bajo nivel para la creación de gráficos en Python, ofreciendo un control muy detallado sobre los elementos de la gráfica.\n",
        "\n",
        "* ***Abstracción:*** Matplotlib ofrece un control granular sobre casi todos los aspectos de una gráfica, incluyendo tamaño del lienzo, espaciado, colores, tipos de líneas, escalas de los ejes, y más. Esto te permite personalizar cada pequeño detalle del gráfico.\n",
        "\n",
        "* ***Flexibilidad:*** Esta naturaleza de bajo nivel significa que puedes construir gráficos muy específicos y personalizados, pero a menudo a costa de escribir más código.\n",
        "\n",
        "* ***Curva de Aprendizaje:*** Por lo general, tiene una curva de aprendizaje más pronunciada, especialmente para usuarios nuevos o para aquellos que no requieren un alto grado de personalización.\n",
        "\n",
        "* ***Uso:*** Ideal para cuando necesitas crear gráficos muy específicos o cuando estás trabajando con un tipo de visualización que no está cubierta por bibliotecas de más alto nivel."
      ],
      "metadata": {
        "id": "t3uTgA-O6b9r"
      }
    },
    {
      "cell_type": "markdown",
      "source": [
        "### Estructura del código:\n",
        "\n",
        "* ***Importación de la Biblioteca:*** `import matplotlib.pyplot as plt`\n",
        "\n",
        "* ***Creación de la Figura y los Ejes:*** Utilizamos `plt.subplots()` para crear una figura y uno o varios ejes (subgráficos). En el ejemplo, `fig, axes = plt.subplots(2, 2, figsize=(12, 10))` crea una figura con 4 subgráficos (2 filas y 2 columnas).\n",
        "\n",
        "\n",
        "* ***Dibujar en los Ejes:*** Para cada subgráfico, se utilizan métodos como `scatter()` para gráficos de dispersión o `hist()` para histogramas. Se especifican los ejes en los que se dibuja, por ejemplo, `axes[0, 0].scatter(...).`\n",
        "\n",
        "\n",
        "* ***Personalización:*** Se pueden agregar títulos, etiquetas para los ejes, cambiar colores, etc.\n",
        "\n",
        "\n",
        "* ***Visualización:*** Finalmente, se muestra el gráfico con `plt.show()`"
      ],
      "metadata": {
        "id": "HKNpzuo562Cj"
      }
    },
    {
      "cell_type": "code",
      "source": [
        "import matplotlib.pyplot as plt\n",
        "\n",
        "# Creando una figura con múltiples subgráficos en Matplotlib\n",
        "fig, axes = plt.subplots(2, 2, figsize=(10, 8))\n",
        "\n",
        "# Gráfico de dispersión de Sepal Length vs Sepal Width\n",
        "axes[0, 0].scatter(iris['sepal_length'], iris['sepal_width'])\n",
        "axes[0, 0].set_title('Sepal Length vs Sepal Width')\n",
        "axes[0, 0].set_xlabel('Sepal Length')\n",
        "axes[0, 0].set_ylabel('Sepal Width')\n",
        "\n",
        "# Gráfico de dispersión de Petal Length vs Petal Width\n",
        "color_dict = {'setosa': 'red', 'versicolor': 'blue', 'virginica': 'green'} # Asignando colores a las especies\n",
        "\n",
        "for species, group in iris.groupby('species'):\n",
        "    axes[0, 1].scatter(group['petal_length'], group['petal_width'], color=color_dict[species], label=species)\n",
        "\n",
        "axes[0, 1].set_title('Petal Length vs Petal Width')\n",
        "axes[0, 1].set_xlabel('Petal Length')\n",
        "axes[0, 1].set_ylabel('Petal Width')\n",
        "axes[0, 1].legend()\n",
        "\n",
        "# Histograma de Sepal Length\n",
        "axes[1, 0].hist(iris['sepal_length'], bins=25, color='orange', edgecolor='black', linewidth=1.5)\n",
        "axes[1, 0].set_title('Histogram of Sepal Length')\n",
        "axes[1, 0].set_xlabel('Sepal Length')\n",
        "axes[1, 0].set_ylabel('Frequency')\n",
        "axes[1, 0].set_facecolor('lightgrey') # Color de fondo\n",
        "\n",
        "# Histograma de Sepal Width\n",
        "axes[1, 1].hist(iris['sepal_width'], bins=20, color='red')\n",
        "axes[1, 1].set_title('Histogram of Sepal Width')\n",
        "axes[1, 1].set_xlabel('Sepal Width')\n",
        "axes[1, 1].set_ylabel('Frequency')\n",
        "\n",
        "# Ajustando el layout\n",
        "plt.tight_layout()\n",
        "plt.show()"
      ],
      "metadata": {
        "id": "7FnkX-CZOC6P"
      },
      "execution_count": null,
      "outputs": []
    },
    {
      "cell_type": "code",
      "source": [
        "# Scatter plot: https://matplotlib.org/stable/api/_as_gen/matplotlib.pyplot.scatter.html#matplotlib.pyplot.scatter\n",
        "\n",
        "# Creando una sola figura\n",
        "fig = plt.figure(figsize=(6, 4)) # Puedes ajustar el tamaño según necesites\n",
        "\n",
        "# Creando un gráfico (por ejemplo, un gráfico de dispersión)\n",
        "plt.scatter(iris['sepal_length'], iris['sepal_width'])\n",
        "\n",
        "# Configuración del gráfico\n",
        "plt.title('Sepal Length vs Sepal Width')\n",
        "plt.xlabel('Sepal Length')\n",
        "plt.ylabel('Sepal Width')\n",
        "\n",
        "# Mostrando el gráfico\n",
        "plt.show()"
      ],
      "metadata": {
        "id": "CoFiBq2kWhT0"
      },
      "execution_count": null,
      "outputs": []
    },
    {
      "cell_type": "markdown",
      "source": [
        "## Seaborn\n",
        "\n",
        "[<img src=\"https://seaborn.pydata.org/_static/logo-wide-lightbg.svg\" width=200px>](https://seaborn.pydata.org/examples/index.html)"
      ],
      "metadata": {
        "id": "FcZi6qo4Wu3T"
      }
    },
    {
      "cell_type": "markdown",
      "source": [
        "### Características\n",
        "Seaborn es una biblioteca de alto nivel para la creación de gráficos estadísticos en Python, construida sobre Matplotlib. Ofrece una interfaz más sencilla para la creación de gráficos complejos y estéticamente agradables.\n",
        "\n",
        "* ***Abstracción:*** Seaborn, por otro lado, es una biblioteca de más alto nivel que se construye sobre Matplotlib. Ofrece una interfaz más sencilla para crear gráficos comunes y estadísticos.\n",
        "\n",
        "* ***Facilidad de Uso:*** Seaborn permite a los usuarios crear visualizaciones complejas y atractivas con menos código. Viene con una serie de tipos de gráficos predefinidos y estilos que están optimizados para ser visualmente atractivos.\n",
        "\n",
        "* ***Funcionalidades Estadísticas:*** Incorpora de manera nativa la capacidad de integrar cálculos estadísticos en los gráficos, como regresiones lineales o distribuciones de datos.\n",
        "\n",
        "* ***Uso:*** Ideal para análisis exploratorios de datos y cuando se necesita producir gráficos estadísticos informativos y atractivos de forma rápida y sencilla.\n",
        "\n",
        "En resumen, Matplotlib te da más control y flexibilidad, pero a menudo a expensas de escribir más código y una curva de aprendizaje más empinada. Seaborn, en cambio, facilita la creación de gráficos comunes y estadísticos con menos código, pero ofrece menos control sobre los detalles finos de la visualización."
      ],
      "metadata": {
        "id": "1ZyoPtKx7km6"
      }
    },
    {
      "cell_type": "markdown",
      "source": [
        "### Estructura del código\n",
        "\n",
        "* ***Importación de la Biblioteca:*** `import seaborn as sns`\n",
        "\n",
        "* ***Cargar Datos:*** Seaborn puede trabajar directamente con DataFrames de Pandas, como en `iris = sns.load_dataset(\"iris\")`.\n",
        "\n",
        "* ***Creación de Gráficos:*** Seaborn tiene funciones de alto nivel para crear diferentes tipos de gráficos. Por ejemplo, `sns.pairplot(iris, hue='species')` crea una matriz de gráficos para cada combinación de variables en el DataFrame, coloreadas por una categoría específica.\n",
        "\n",
        "* ***Personalización y Estilo:*** Seaborn aplica automáticamente estilos y temas para mejorar la apariencia de los gráficos. Hay opciones para personalizar estos aspectos.\n",
        "\n",
        "\n",
        "* ***Visualización:*** La visualización ocurre automáticamente cuando se llama a la función de gráficos, pero se recomienda el uso de `plt.show()`"
      ],
      "metadata": {
        "id": "aXYQvSh-7my7"
      }
    },
    {
      "cell_type": "code",
      "source": [
        "# Pairplot: https://seaborn.pydata.org/generated/seaborn.pairplot.html\n",
        "\n",
        "import seaborn as sns\n",
        "import matplotlib.pyplot as plt\n",
        "\n",
        "# Usando el mismo conjunto de datos 'iris'\n",
        "sns.pairplot(\n",
        "    iris,\n",
        "    hue='species',\n",
        "    )\n",
        "\n",
        "plt.show()"
      ],
      "metadata": {
        "id": "jQ3JxNF2OH_A"
      },
      "execution_count": null,
      "outputs": []
    },
    {
      "cell_type": "code",
      "source": [
        "# Violinplot: https://seaborn.pydata.org/generated/seaborn.violinplot.html\n",
        "\n",
        "# Creando un gráfico de violín\n",
        "sns.violinplot(\n",
        "    x=\"species\",\n",
        "    y=\"petal_length\",\n",
        "    data=iris,\n",
        "    )\n",
        "\n",
        "# Mostrando el gráfico\n",
        "plt.show()"
      ],
      "metadata": {
        "id": "_u2fQUO5QP7s"
      },
      "execution_count": null,
      "outputs": []
    },
    {
      "cell_type": "code",
      "source": [
        "# boxplot: https://seaborn.pydata.org/generated/seaborn.boxplot.html\n",
        "\n",
        "# Creando un gráfico de cajas\n",
        "sns.boxplot(\n",
        "    x=\"species\",\n",
        "    y=\"sepal_width\",\n",
        "    data=iris,\n",
        "    )\n",
        "\n",
        "# Mostrando el gráfico\n",
        "plt.show()"
      ],
      "metadata": {
        "id": "E_ggeMmqQVDc"
      },
      "execution_count": null,
      "outputs": []
    },
    {
      "cell_type": "markdown",
      "source": [
        "## Plotly\n",
        "\n",
        "[<img src=\"https://plotly.com/all_static/images/graphing_library_dark.svg\" width=300px>](https://plotly.com/python/)\n",
        "\n"
      ],
      "metadata": {
        "id": "yNgLTvwJXbNp"
      }
    },
    {
      "cell_type": "markdown",
      "source": [
        "### Características\n",
        "\n",
        "Plotly es una biblioteca para la creación de gráficos interactivos. Permite crear gráficos que pueden ser explorados interactivamente en un navegador web.\n",
        "\n"
      ],
      "metadata": {
        "id": "TfmEnQ1Q79zk"
      }
    },
    {
      "cell_type": "markdown",
      "source": [
        "### Estructura del código\n",
        "\n",
        "* ***Importación de la Biblioteca:*** `import plotly.express as px`\n",
        "\n",
        "\n",
        "* ***Creación de Gráficos:*** Se utilizan funciones de alto nivel para crear gráficos. Por ejemplo, `px.scatter(iris, x='sepal_width', y='sepal_length', color='species')` crea un gráfico de dispersión interactivo.\n",
        "\n",
        "* ***Personalización:*** Plotly permite una amplia gama de personalizaciones, desde cambiar colores y estilos hasta ajustar los aspectos interactivos.\n",
        "\n",
        "* ***Visualización:*** Se muestra el gráfico utilizando `fig.show()`. Esto abrirá el gráfico en el jupyter notebook/colab o un navegador web, permitiendo interacciones como el zoom y el paso del mouse sobre los puntos para obtener más información."
      ],
      "metadata": {
        "id": "8fLLo9LJ7_hO"
      }
    },
    {
      "cell_type": "code",
      "source": [
        "# Scatter: https://plotly.com/python/line-and-scatter/\n",
        "\n",
        "import plotly.express as px\n",
        "\n",
        "# Creando un gráfico interactivo con Plotly\n",
        "fig = px.scatter(\n",
        "    iris,\n",
        "    x='sepal_width',\n",
        "    y='sepal_length',\n",
        "    color='species',\n",
        "    # title='Título del gráfico',\n",
        "    # width=10000,\n",
        "    # height=8000,\n",
        "    )\n",
        "\n",
        "fig.show()"
      ],
      "metadata": {
        "id": "9kglNcRlOIFi"
      },
      "execution_count": null,
      "outputs": []
    },
    {
      "cell_type": "code",
      "source": [
        "# Creando un gráfico de dispersión con facetas\n",
        "fig = px.scatter(\n",
        "    iris,\n",
        "    x=\"petal_width\",\n",
        "    y=\"petal_length\",\n",
        "    color=\"species\",\n",
        "    facet_col=\"species\", # divide en columna según valors unicos de la columna especificada\n",
        "    )\n",
        "\n",
        "# Mostrando el gráfico\n",
        "fig.show()"
      ],
      "metadata": {
        "id": "Gk_iqKaIQlHy"
      },
      "execution_count": null,
      "outputs": []
    },
    {
      "cell_type": "code",
      "source": [
        "# Scatter 3d: https://plotly.com/python/3d-scatter-plots/\n",
        "\n",
        "# Creando un gráfico de dispersión 3D\n",
        "fig = px.scatter_3d(\n",
        "    iris,\n",
        "    x='sepal_length',\n",
        "    y='sepal_width',\n",
        "    z='petal_length',\n",
        "    color='species',\n",
        "    )\n",
        "\n",
        "# Mostrando el gráfico\n",
        "fig.show()"
      ],
      "metadata": {
        "id": "s8BP3bPgQaSp"
      },
      "execution_count": null,
      "outputs": []
    },
    {
      "cell_type": "markdown",
      "source": [
        "# Mapas y geolocalización con geopandas y folium."
      ],
      "metadata": {
        "id": "tUJ3r6ZhX9Cu"
      }
    },
    {
      "cell_type": "markdown",
      "source": [
        "### Importamos archivos de prueba:"
      ],
      "metadata": {
        "id": "90WaHqgNQkoy"
      }
    },
    {
      "cell_type": "code",
      "source": [
        "# Importamos los archivos desde el repositorio de github\n",
        "\n",
        "# !apt-get install subversion\n",
        "# !svn checkout https://github.com/marianobonelli/Introduccion_a_Python_2023/trunk/assets\n",
        "\n",
        "import subprocess\n",
        "import sys\n",
        "\n",
        "try:\n",
        "    # Instalar subversion\n",
        "    subprocess.run([\"apt-get\", \"install\", \"subversion\"], check=True)\n",
        "\n",
        "    # Hacer checkout del repositorio SVN\n",
        "    subprocess.run([\"svn\", \"checkout\", \"https://github.com/marianobonelli/Introduccion_a_Python_2023/trunk/assets\"], check=True)\n",
        "\n",
        "except subprocess.CalledProcessError as e:\n",
        "    print(f\"Se produjo un error: {e}\")"
      ],
      "metadata": {
        "id": "ZbOpp2a__WC6"
      },
      "execution_count": null,
      "outputs": []
    },
    {
      "cell_type": "markdown",
      "source": [
        "## Geopandas\n",
        "\n",
        "[<img src=\"https://geopandas.org/en/stable/_static/geopandas_logo_web.svg\" width=200px>](https://geopandas.org/en/stable/docs.html)\n",
        "\n"
      ],
      "metadata": {
        "id": "2SQBjhipTaRp"
      }
    },
    {
      "cell_type": "markdown",
      "source": [
        "GeoPandas, como su nombre sugiere, extiende la popular biblioteca de ciencia de datos pandas añadiendo soporte para datos geoespaciales. Si no estás familiarizado con pandas, te recomendamos echar un vistazo rápido a su documentación de inicio antes de proceder.\n",
        "\n",
        "La estructura de datos principal en GeoPandas es el geopandas.GeoDataFrame, una subclase de pandas.DataFrame, que puede almacenar columnas de geometría y realizar operaciones espaciales. El geopandas.GeoSeries, una subclase de pandas.Series, maneja las geometrías. Por lo tanto, tu GeoDataFrame es una combinación de pandas.Series, con datos tradicionales (numéricos, booleanos, texto, etc.), y geopandas.GeoSeries, con geometrías (puntos, polígonos, etc.). Puedes tener tantas columnas con geometrías como desees; no hay límite típico para el software GIS de escritorio.\n",
        "\n",
        "[<img src=\"https://geopandas.org/en/stable/_images/dataframe.svg\" width=650px>](https://geopandas.org/en/stable/getting_started/introduction.html)"
      ],
      "metadata": {
        "id": "xgrm8loSUxac"
      }
    },
    {
      "cell_type": "markdown",
      "source": [
        " ### Lectura de archivos como GeoDataFrame (GDF)\n",
        "\n",
        " [geopandas.read_file()](https://geopandas.org/en/stable/docs/reference/api/geopandas.read_file.html)"
      ],
      "metadata": {
        "id": "bxfXVixcBnf1"
      }
    },
    {
      "cell_type": "code",
      "source": [
        "import geopandas as gpd\n",
        "\n",
        "lotes_gdf = gpd.read_file('/content/assets/Lotes.zip')\n",
        "lotes_gdf.head()"
      ],
      "metadata": {
        "id": "jhUJbjx38-8Y"
      },
      "execution_count": null,
      "outputs": []
    },
    {
      "cell_type": "code",
      "source": [
        "lotes_gdf.info()"
      ],
      "metadata": {
        "id": "gDVX0oLJC3Hr"
      },
      "execution_count": null,
      "outputs": []
    },
    {
      "cell_type": "code",
      "source": [
        "# Uso de try para manejo de errores\n",
        "\n",
        "try:\n",
        "  lotes_gdf = gpd.read_file('/content/assets/Lotes.zipp')\n",
        "  lotes_gdf.head()\n",
        "except Exception as e:\n",
        "  print(f'Ocurrió un error: {e}')"
      ],
      "metadata": {
        "id": "3CW8AwaJ8--s"
      },
      "execution_count": null,
      "outputs": []
    },
    {
      "cell_type": "code",
      "source": [
        "rindes_gdf = gpd.read_file('/content/assets/Rindes_9_10.zip')\n",
        "rindes_gdf.head()"
      ],
      "metadata": {
        "id": "QPB2bBjx8_BT"
      },
      "execution_count": null,
      "outputs": []
    },
    {
      "cell_type": "markdown",
      "source": [
        "#### Uso de pyogrio para acelerar la lectura de archivos"
      ],
      "metadata": {
        "id": "UD3JAfvUQ6zB"
      }
    },
    {
      "cell_type": "code",
      "source": [
        "!pip install pyogrio"
      ],
      "metadata": {
        "id": "hHNCPfXdCIsN"
      },
      "execution_count": null,
      "outputs": []
    },
    {
      "cell_type": "code",
      "source": [
        "rindes_gdf = gpd.read_file('/content/assets/Rindes_9_10.zip', engine=\"pyogrio\")\n",
        "rindes_gdf.head()"
      ],
      "metadata": {
        "id": "3OgFucLN8_Dc"
      },
      "execution_count": null,
      "outputs": []
    },
    {
      "cell_type": "code",
      "source": [
        "rindes_gdf.info()"
      ],
      "metadata": {
        "id": "gcEbBe5E8_Me"
      },
      "execution_count": null,
      "outputs": []
    },
    {
      "cell_type": "markdown",
      "source": [
        "### Visualización de los GDF"
      ],
      "metadata": {
        "id": "Y_SW8iJ8RCgt"
      }
    },
    {
      "cell_type": "markdown",
      "source": [
        "#### Mapas estáticos nativos de geopandas\n",
        "\n",
        "[Making maps and plots](https://geopandas.org/en/stable/docs/user_guide/mapping.html)"
      ],
      "metadata": {
        "id": "jKQBTc06RJ6K"
      }
    },
    {
      "cell_type": "code",
      "source": [
        "# Visualización de los gdf\n",
        "\n",
        "rindes_gdf.plot(column=\"Yld_Mass_D\", cmap='RdYlGn', markersize=3)"
      ],
      "metadata": {
        "id": "E5Y5F3sYDe_F"
      },
      "execution_count": null,
      "outputs": []
    },
    {
      "cell_type": "markdown",
      "source": [
        "##### Visualización por cuantiles"
      ],
      "metadata": {
        "id": "Y9T-FFDoRPOj"
      }
    },
    {
      "cell_type": "code",
      "source": [
        "import pandas as pd\n",
        "\n",
        "# Primero, crearemos categorías basadas en cuantiles para la columna 'Yld_Mass_D'\n",
        "rindes_gdf['cuantiles'] = pd.qcut(rindes_gdf['Yld_Mass_D'], 4, labels=False)\n",
        "rindes_gdf.plot(column='cuantiles', cmap='RdYlGn', markersize=3)"
      ],
      "metadata": {
        "id": "ifGiTH9cE932"
      },
      "execution_count": null,
      "outputs": []
    },
    {
      "cell_type": "markdown",
      "source": [
        "#### Mapas interactivos de geopandas con folium\n",
        "\n",
        "[Interactive mapping](https://geopandas.org/en/stable/docs/user_guide/interactive_mapping.html)"
      ],
      "metadata": {
        "id": "dFSmPQzVRUGx"
      }
    },
    {
      "cell_type": "code",
      "source": [
        "!pip install folium matplotlib mapclassify"
      ],
      "metadata": {
        "id": "OGsfgsNRFsKj"
      },
      "execution_count": null,
      "outputs": []
    },
    {
      "cell_type": "code",
      "source": [
        "#lotes_gdf = lotes_gdf.drop(columns=['Fecha de s'])\n",
        "\n",
        "# Crear el mapa\n",
        "mapa = lotes_gdf.explore(\n",
        "    column=\"Cultivo\",  # hacer un coropleta basado en la columna \"Cultivo\"\n",
        "    tooltip=[\"Lote\", 'Cultivo', 'Hibrido/Va',  'Surface (h'],  # mostrar valor en tooltip (al pasar el mouse)\n",
        "    popup=True,  # mostrar todos los valores en popup (al hacer clic)\n",
        "    tiles=\"CartoDB positron\",  # usar los mosaicos \"CartoDB positron\"\n",
        "    cmap=\"Set1\",  # usar el mapa de colores \"Set1\" de matplotlib # cmap = https://matplotlib.org/stable/users/explain/colors/colormaps.html\n",
        "    style_kwds=dict(color=\"black\"),  # usar contorno negro\n",
        ")\n",
        "\n",
        "# Guardar el mapa como un archivo HTML\n",
        "mapa.save(\"mapa_lotes.html\")\n",
        "\n",
        "mapa"
      ],
      "metadata": {
        "id": "46LXlgdwDfB0"
      },
      "execution_count": null,
      "outputs": []
    },
    {
      "cell_type": "code",
      "source": [
        "#rindes_gdf = rindes_gdf.drop(columns=['Time', 'Date'])\n",
        "\n",
        "# rindes_gdf.explore(\n",
        "#     column=\"cuantiles\",  # make choropleth based on \"Lote\" column\n",
        "#     popup=False,  # show all values in popup (on click)\n",
        "#     tiles=\"CartoDB positron\",  # use \"CartoDB positron\" tiles\n",
        "#     cmap=\"RdYlGn\",  # use \"Set1\" matplotlib colormap https://matplotlib.org/stable/users/explain/colors/colormaps.html\n",
        "#     #style_kwds=dict(color=\"black\"),  # use black outline\n",
        "# )"
      ],
      "metadata": {
        "id": "og0ZxfvyDfEL"
      },
      "execution_count": null,
      "outputs": []
    },
    {
      "cell_type": "markdown",
      "source": [
        "#### Mapas con matplotlib"
      ],
      "metadata": {
        "id": "CLiDd41ORcZ1"
      }
    },
    {
      "cell_type": "code",
      "source": [
        "fig, ax = plt.subplots(figsize=(10, 10))\n",
        "\n",
        "# Utilizar una columna del GeoDataFrame para los colores. Reemplaza 'tu_columna_color' con el nombre de tu columna\n",
        "lotes_gdf.plot(ax=ax, column='Cultivo', cmap=\"Set1\", edgecolor='black', legend=False) # cmap = https://matplotlib.org/stable/users/explain/colors/colormaps.html\n",
        "\n",
        "# Graficar los puntos\n",
        "rindes_gdf.plot(ax=ax, column='cuantiles', cmap=\"RdYlGn\", markersize=0.5) # cmap = https://matplotlib.org/stable/users/explain/colors/colormaps.html\n",
        "\n",
        "# Quitar los ejes\n",
        "ax.set_axis_off()\n",
        "\n",
        "plt.show()"
      ],
      "metadata": {
        "id": "2KWNHxC2DfG1"
      },
      "execution_count": null,
      "outputs": []
    },
    {
      "cell_type": "markdown",
      "source": [
        "#### Mapas con Plotly"
      ],
      "metadata": {
        "id": "OdHNdu7ARh_j"
      }
    },
    {
      "cell_type": "code",
      "source": [
        "# Crear figura para los lotes\n",
        "fig = px.choropleth_mapbox(lotes_gdf, geojson=lotes_gdf.geometry.__geo_interface__,\n",
        "                           locations=lotes_gdf.index, color_discrete_sequence=[\"lightgrey\"])\n",
        "\n",
        "# Calcular el centroide del conjunto de polígonos\n",
        "centroid = lotes_gdf.geometry.unary_union.centroid\n",
        "\n",
        "# Actualizar el layout para centrar el mapa\n",
        "fig.update_layout(mapbox_style=\"open-street-map\",\n",
        "                  mapbox_zoom=10,\n",
        "                  mapbox_center={\"lat\": centroid.y, \"lon\": centroid.x})\n",
        "fig.show()"
      ],
      "metadata": {
        "id": "5qMYPJJwDfJp"
      },
      "execution_count": null,
      "outputs": []
    },
    {
      "cell_type": "markdown",
      "source": [
        "### Algunas funcionalidades de geopandas\n",
        "\n",
        "* [Proyecciones automáticas](https://geopandas.org/en/stable/docs/reference/api/geopandas.GeoDataFrame.estimate_utm_crs.html#geopandas.GeoDataFrame.estimate_utm_crs)\n",
        "\n",
        "* [Overlay](https://geopandas.org/en/stable/docs/user_guide/set_operations.html)\n",
        "\n",
        "* [Muchos otros](https://geopandas.org/en/stable/docs/reference/geoseries.html)"
      ],
      "metadata": {
        "id": "hNKHwVAgRmdJ"
      }
    },
    {
      "cell_type": "code",
      "source": [
        "# Estimar CRS UTM para cada GeoDataFrame\n",
        "crs_rindes = rindes_gdf.estimate_utm_crs()\n",
        "crs_lotes = lotes_gdf.estimate_utm_crs()\n",
        "\n",
        "# Proyectar ambos GDFs al CRS UTM\n",
        "rindes_gdf = rindes_gdf.to_crs(crs_rindes)\n",
        "lotes_gdf = lotes_gdf.to_crs(crs_lotes)\n",
        "\n",
        "# Filtrar el lote específico\n",
        "lote_especifico = lotes_gdf[lotes_gdf['Lote'] == 'SM9']\n",
        "\n",
        "# Extraer puntos dentro del polígono especificado\n",
        "puntos_dentro_lote = rindes_gdf[rindes_gdf.geometry.within(lote_especifico.unary_union)]\n",
        "\n",
        "# Volver a proyectar los puntos a EPSG:4326 para visualización\n",
        "puntos_dentro_lote = puntos_dentro_lote.to_crs(\"EPSG:4326\")\n",
        "\n",
        "# Visualización con Matplotlib\n",
        "fig, ax = plt.subplots(figsize=(10, 10))\n",
        "puntos_dentro_lote.plot(ax=ax, column='cuantiles', cmap=\"RdYlGn\", markersize=2)\n",
        "ax.set_axis_off()\n",
        "plt.show()"
      ],
      "metadata": {
        "id": "QtbU-wwEDfLx"
      },
      "execution_count": null,
      "outputs": []
    },
    {
      "cell_type": "markdown",
      "source": [
        "# Anexo"
      ],
      "metadata": {
        "id": "a2ItvMTzfZJi"
      }
    },
    {
      "cell_type": "code",
      "source": [
        "# API NASA Climograma https://power.larc.nasa.gov/data-access-viewer/\n",
        "\n",
        "import requests\n",
        "\n",
        "crs_lotes = lotes_gdf.estimate_utm_crs()\n",
        "\n",
        "# Proyectar ambos GDFs al CRS UTM\n",
        "lotes_gdf = lotes_gdf.to_crs(crs_lotes)\n",
        "\n",
        "# Filtrar el lote específico\n",
        "lote_especifico = lotes_gdf[lotes_gdf['Lote'] == 'SM9']\n",
        "\n",
        "# Calcular el centroide del lote específico en UTM\n",
        "centroide_utm = lote_especifico.geometry.centroid.iloc[0]\n",
        "\n",
        "# Crear un GeoSeries con el centroide UTM\n",
        "centroide_geo = gpd.GeoSeries([centroide_utm], crs=crs_lotes)\n",
        "\n",
        "# Transformar el centroide de vuelta a EPSG:4326\n",
        "centroide_latlon = centroide_geo.to_crs(\"EPSG:4326\").iloc[0]\n",
        "\n",
        "# Extraer latitud y longitud\n",
        "latitud = centroide_latlon.y\n",
        "longitud = centroide_latlon.x\n",
        "year = 2018\n",
        "\n",
        "# Fecha de inicio y fin para todo el año\n",
        "start_date = f\"{year}0101\"\n",
        "end_date = f\"{year}1231\"\n",
        "\n",
        "# URL de la API\n",
        "url = f\"https://power.larc.nasa.gov/api/temporal/daily/point?parameters=PRECTOTCORR,T2M_MIN,T2M_MAX,T2M_RANGE&community=AG&longitude={longitud}&latitude={latitud}&start={start_date}&end={end_date}&format=JSON\"\n",
        "\n",
        "# Hacer el request\n",
        "response = requests.get(url)\n",
        "\n",
        "# Verificar si el request fue exitoso\n",
        "if response.status_code == 200:\n",
        "    data = response.json()\n",
        "else:\n",
        "    data = None\n",
        "\n",
        "data"
      ],
      "metadata": {
        "id": "ifEb_CCguQfh"
      },
      "execution_count": null,
      "outputs": []
    },
    {
      "cell_type": "markdown",
      "source": [
        "* [Qiusheng Wu](https://github.com/giswqs)\n",
        "* [Descarga NDVI](https://youtu.be/0Gyuc47Gt1I?si=FLYTj5fE5nACVItN)\n",
        "* [ipywidgets](https://ipywidgets.readthedocs.io/en/stable/examples/Widget%20List.html)"
      ],
      "metadata": {
        "id": "n0UMzNZEgEWF"
      }
    },
    {
      "cell_type": "markdown",
      "source": [
        "# Trabajo Final:\n",
        "\n",
        "* Extraer los datos de rinde del lote 10\n",
        "* Hacer un histograma y un boxplot de los datos de rinde\n",
        "* Filtrar el gdf de rinde para excluir los datos que tengan en primer lugar, valores de rinde = 0 y en segundo lugar que tengan valores superiores a la media mas tres desvíos estandar e inferiores a la media menos tres desvíos estandar para los datos de rinde, ancho de labor, distancia y velocidad\n",
        "* Hacer un histograma y un boxplot de los datos de rinde ya filtrado\n",
        "* Graficar el mapa de rindes ya filtrado, asignarle titulo\n",
        "\n",
        "Se debe entregar un colab individual al mail mbonelli95@gmail.com con copia a nicoestebansoria@gmail.com antes del sabado 2 de diciembre\n",
        "\n",
        "El lunes 27 de noviembre habrá una clase de consulta"
      ],
      "metadata": {
        "id": "1kpWLtRixC93"
      }
    }
  ]
}