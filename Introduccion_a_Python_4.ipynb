{
  "nbformat": 4,
  "nbformat_minor": 0,
  "metadata": {
    "colab": {
      "provenance": [],
      "toc_visible": true,
      "include_colab_link": true
    },
    "kernelspec": {
      "name": "python3",
      "display_name": "Python 3"
    },
    "language_info": {
      "name": "python"
    }
  },
  "cells": [
    {
      "cell_type": "markdown",
      "metadata": {
        "id": "view-in-github",
        "colab_type": "text"
      },
      "source": [
        "<a href=\"https://colab.research.google.com/github/marianobonelli/Introduccion_a_Python_2023/blob/main/Introduccion_a_Python_4.ipynb\" target=\"_parent\"><img src=\"https://colab.research.google.com/assets/colab-badge.svg\" alt=\"Open In Colab\"/></a>"
      ]
    },
    {
      "cell_type": "markdown",
      "source": [
        "# Introducción a la programación y análisis de datos con Python orientado a la producción agropecuaria\n",
        "\n",
        "[![Cronograma](https://img.shields.io/badge/-Cronograma-blue?style=flat&logo=google-docs&logoColor=white)](https://docs.google.com/document/d/1wDjkT1pYXirQgByWfcu82Szsbn8249sRxHX0E7leNog/edit?usp=sharing)\n",
        "[![Canal de Discord](https://img.shields.io/badge/-Discord-blue?style=flat&logo=discord&logoColor=white)](https://discord.gg/WaA2uTp4)\n",
        "[![Video de la clase](https://img.shields.io/badge/-Video%20de%20la%20clase-blue?style=flat&logo=youtube&logoColor=white)](https://)\n",
        "[![Repositorio de GitHub](https://img.shields.io/badge/-Repositorio%20de%20GitHub-blue?style=flat&logo=github&logoColor=white)](https://github.com/marianobonelli/Introduccion_a_Python_2023)\n",
        "\n",
        "\n",
        "---\n",
        "\n",
        "\n",
        "\n",
        "**Clase 4: Miércoles 15 de noviembre**\n",
        "\n",
        "\n",
        "Introducción a librerías - Parte I:\n",
        "\n",
        "* Introducción a librerías y ejemplos.\n",
        "\n",
        "* Importación y manejo de datos con pandas.\n",
        "\n",
        "* Uso de matplotlib, seaborn y plotly para visualizar datos.\n",
        "\n",
        "\n",
        "---"
      ],
      "metadata": {
        "id": "Al-INYTSu9hm"
      }
    },
    {
      "cell_type": "markdown",
      "source": [
        "# Introducción a librerías y ejemplos"
      ],
      "metadata": {
        "id": "O0i9IKHHfd4H"
      }
    },
    {
      "cell_type": "markdown",
      "source": [
        "Una *librería* o *biblioteca* es un conjunto de funciones implementadas por otro programador que nos facilitan realizar tareas, principalmente porque no debemos volver a programar este código.\n",
        "\n",
        "<img src=\"http://www.goalexandria.com/wp-content/uploads/2016/02/alt-lib.png\" width=200px>\n",
        "\n",
        "*¿Como usamos una librería?* Primero debemos importarla, para lo cual tenemos opciones. A continuación, se expone la sintaxis general junto con un ejemplo:\n",
        "\n",
        "* Opción 1: importar una librería, sin alias.\n",
        "\n",
        "  > **import** (nombre de la libreria)\n",
        "\n",
        "  ```python\n",
        "  import math\n",
        "\n",
        "  ```\n",
        "\n",
        "* Opción 2: importar una librería, con alias.\n",
        "\n",
        "  > **import** (nombre de la libreria) **as** (nombre abreviado)\n",
        "\n",
        "  ```python\n",
        "  import pandas as pd\n",
        "\n",
        "  ```\n",
        "\n",
        "Las librerías muchas veces están separadas en distintos módulos. Podríamos decir que la librería es como un estante de libros, y en cada libro se encuentran las funciones de un tema en común, incluso un \"libro\" podría estar subdividido en \"capítulos\". Es decir, los distintos módulos de una librería podrían llegar a estar subdivididos en módulos, y cada módulo podría estar nuevamente subdividido.\n",
        "\n",
        "Si lo que queremos son módulos o funciones particulares de una librería, podemos importar de a uno o más de diversas formas.\n",
        "\n",
        "* Opción 1: importar un módulo o función, sin alias.\n",
        "\n",
        "  > **from** (nombre de la libreria) **import** (nombre de un módulo)\n",
        "\n",
        "  ```python\n",
        "  from random import randint\n",
        "\n",
        "  ```\n",
        "\n",
        "* Opción 2: importar más de un módulo o función.\n",
        "\n",
        "  > **from** (nombre de la libreria) **import** (nombre de un módulo), (nombre de otro módulo), ...\n",
        "\n",
        "  ```python\n",
        "  from random import randint, randrange\n",
        "\n",
        "  ```\n",
        "\n",
        "* Opción 3: importar un módulo o función, con un alias.\n",
        "\n",
        "  > **from** (nombre de la libreria) **import** (nombre de un módulo) **as** (nombre abreviado)\n",
        "\n",
        "  ```python\n",
        "  from matplotlib import pyplot as plt\n",
        "\n",
        "  ```\n",
        "\n",
        "* Opción 4: importar un módulo o función, con un alias, otra forma.\n",
        "\n",
        "  > **import** (nombre de la libreria)**.**(nombre de un módulo) **as** (nombre abreviado)\n",
        "\n",
        "  ```python\n",
        "  import matplotlib.pyplot as plt\n",
        "\n",
        "  ```\n",
        "\n",
        "* Opción 5: importar todos los módulos o funciones de una librería.\n",
        "\n",
        "  > **from** (nombre de la librería) **import** * (todo)\n",
        "\n",
        "  ```python\n",
        "  from numpy import *\n",
        "\n",
        "  ```\n",
        "\n",
        "Una vez importada la librería, podremos utilizar las funciones y variables definidas en ella. La utilización de una función o variable dependerá de cómo hayamos realizado la importación. Ejemplos:\n",
        "\n",
        "* Si se importó una librería o módulo:\n",
        "  > (nombre de la libreria/módulo)**.**función*(argumentos)*\n",
        "\n",
        "  > (nombre de la libreria/módulo)**.**(nombre de la variable)\n",
        "\n",
        "  ```python\n",
        "  import math\n",
        "\n",
        "  print(math.sin(math.pi / 2))\n",
        "\n",
        "  ```\n",
        "\n",
        "* Si se importó una función o variable:\n",
        "  > función(argumentos)\n",
        "\n",
        "  > variable\n",
        "\n",
        "  ```python\n",
        "  from math import sin, pi\n",
        "\n",
        "  print(sin(pi / 2))\n",
        "\n",
        "  ```\n",
        "\n",
        "* Si se importó una librería dividida en módulos:\n",
        "\n",
        "  > (nombre de la libreria)**.**(nombre del módulo)**.**función*(argumentos)*\n",
        "\n",
        "  ```python\n",
        "  import matplotlib\n",
        "\n",
        "  datos = [i for i in range(-10, 10)]\n",
        "  print(matplotlib.pyplot.plot(datos, datos))\n",
        "\n",
        "  ```\n",
        "\n",
        "\n",
        "**Notas:**\n",
        "- No es obligatorio especificar un nombre abreviado con **as**, puede utilizarse una librería con su nombre original omitiendo este comando.\n",
        "- No sólo pueden importarse módulos de una librería, sino también funciones sueltas, según lo que necesiten. Siempre tengan cuidado de que los nombres de función sean únicos. Si importan una función directamente entonces no querrán definir su propia función con el mismo nombre.\n",
        "- Es una buena práctica que todas las librerías se importen al principio del programa, o sea que las instrucciones de **import** se encuentren arriba de todo.\n",
        "\n",
        "\n",
        "**Ejemplos:**"
      ],
      "metadata": {
        "id": "u0Pbufygfec5"
      }
    },
    {
      "cell_type": "code",
      "source": [
        "import math  # Importamos la libreria math\n",
        "\n",
        "print('El seno de 0 es ', math.sin(0), 'y el coseno', math.cos(0))"
      ],
      "metadata": {
        "id": "6erFd-mVfvlq"
      },
      "execution_count": null,
      "outputs": []
    },
    {
      "cell_type": "code",
      "source": [
        "from math import sin, cos  # Importamos directamente las funciones que usaremos\n",
        "\n",
        "print('El seno de 0 es ', sin(0), 'y el coseno', cos(0))"
      ],
      "metadata": {
        "id": "8YWCqwEPf0Ao"
      },
      "execution_count": null,
      "outputs": []
    },
    {
      "cell_type": "code",
      "source": [
        "import math as m  # Importamos la libreria math abreviada como m\n",
        "\n",
        "print('El seno de 0 es ', m.sin(0), 'y el coseno', m.cos(0))"
      ],
      "metadata": {
        "id": "XDj4BDvSf2N8"
      },
      "execution_count": null,
      "outputs": []
    },
    {
      "cell_type": "code",
      "source": [
        "# En este caso usamos el módulo 'path' de la librería 'os' y lo apodamos 'pth'\n",
        "from os import path as pth\n",
        "\n",
        "print(pth.join('Carpeta','Archivo.rar'))"
      ],
      "metadata": {
        "id": "JVFCVrv6f33H"
      },
      "execution_count": null,
      "outputs": []
    },
    {
      "cell_type": "markdown",
      "source": [
        "Si cierta librería no se encuentra instalada en el sistema, entonces el comando *import* para esa librería no funcionará. Usando la herramienta **pip** se pueden instalar librerías nuevas. En este ejemplo, al ejecutar el siguiente bloque de código se instalan las librerías *numpy* y *pandas* en el entorno de Google Colab."
      ],
      "metadata": {
        "id": "etisIdCCfvtl"
      }
    },
    {
      "cell_type": "code",
      "source": [
        "! pip install numpy\n",
        "! pip install scipy"
      ],
      "metadata": {
        "id": "u0RPZqk_fwbf"
      },
      "execution_count": null,
      "outputs": []
    },
    {
      "cell_type": "markdown",
      "source": [
        "# Importación y manejo de datos con pandas"
      ],
      "metadata": {
        "id": "6BuhT_ZngK9K"
      }
    },
    {
      "cell_type": "markdown",
      "source": [
        "[Pandas](https://pandas.pydata.org) es una librería muy popular en los últimos tiempos. Nos permite, entre otras cosas, sistematizar con unas pocas funciones la conversión de un archivo de información en los tipos de datos que Python maneja. En esta clase la utilizaremos para poder leer archivos con información en filas y columnas, tales como los formatos **excel** o **csv**.\n",
        "\n",
        "<img src=\"https://upload.wikimedia.org/wikipedia/commons/thumb/e/ed/Pandas_logo.svg/1200px-Pandas_logo.svg.png\" width=600px>"
      ],
      "metadata": {
        "id": "dnL6nXQEiBVX"
      }
    },
    {
      "cell_type": "markdown",
      "source": [
        "A continuación mostraremos un ejemplo donde se accede a la información de un archivo utilizando *pandas*. El archivo que leeremos se llama **california_housing_test.csv**, normalmente desde nuestra computadora podremos acceder a los archivos locales mediante su ubicación en el disco. Colab requiere cargar los archivos a su entorno antes de poder usarlos, este archivo es uno de los archivos de prueba que proporciona colab:"
      ],
      "metadata": {
        "id": "ID-F_WegiYel"
      }
    },
    {
      "cell_type": "code",
      "source": [
        "import pandas as pd\n",
        "\n",
        "df = pd.read_csv(\"/content/sample_data/california_housing_test.csv\")\n",
        "# La variable archivo es de un tipo de dato especial de pandas llamado 'DataFrame'\n",
        "df"
      ],
      "metadata": {
        "id": "ja72riOEiYsV"
      },
      "execution_count": null,
      "outputs": []
    },
    {
      "cell_type": "markdown",
      "source": [
        "## Exploración Básica de Datos\n",
        "\n",
        "Antes de analizar los datos, es útil explorarlos para entender su estructura, tipo de datos, y estadísticas básicas. head(), tail(), info() y describe() son métodos útiles para esto."
      ],
      "metadata": {
        "id": "iYeFyAd9loii"
      }
    },
    {
      "cell_type": "code",
      "source": [
        "df.head()"
      ],
      "metadata": {
        "id": "D5Y2o4a-lkkR"
      },
      "execution_count": null,
      "outputs": []
    },
    {
      "cell_type": "code",
      "source": [
        "df.tail()"
      ],
      "metadata": {
        "id": "m2QH1yz7m-4T"
      },
      "execution_count": null,
      "outputs": []
    },
    {
      "cell_type": "code",
      "source": [
        "df.info()"
      ],
      "metadata": {
        "id": "WkIWGqWBltJ5"
      },
      "execution_count": null,
      "outputs": []
    },
    {
      "cell_type": "code",
      "source": [
        "df.describe()"
      ],
      "metadata": {
        "id": "NU4IYpoKlufZ"
      },
      "execution_count": null,
      "outputs": []
    },
    {
      "cell_type": "markdown",
      "source": [
        "## Selección y Filtrado de Datos\n",
        "\n",
        "Pandas permite seleccionar columnas específicas y filtrar filas según ciertos criterios. Esto es fundamental para enfocar el análisis en datos relevantes."
      ],
      "metadata": {
        "id": "AiEGiYyfnGzT"
      }
    },
    {
      "cell_type": "code",
      "source": [
        "# Selección de los valores de una columna\n",
        "\n",
        "df['median_income']"
      ],
      "metadata": {
        "id": "Wvn-vMSuny6R"
      },
      "execution_count": null,
      "outputs": []
    },
    {
      "cell_type": "code",
      "source": [
        "print('Media: ', df['median_income'].mean())\n",
        "print('Max: ', df['median_income'].max())\n",
        "print('Min: ', df['median_income'].min())\n",
        "print('Desvío: ', df['median_income'].std())"
      ],
      "metadata": {
        "id": "rG4xowh3oCN_"
      },
      "execution_count": null,
      "outputs": []
    },
    {
      "cell_type": "code",
      "source": [
        "# Filtrado:\n",
        "\n",
        "df_filtrado = df[df['median_income'] >= 3.5]\n",
        "df_filtrado"
      ],
      "metadata": {
        "id": "gAtCMRE7nMdg"
      },
      "execution_count": null,
      "outputs": []
    },
    {
      "cell_type": "markdown",
      "source": [
        "## Guardar Datos Procesados\n",
        "\n",
        "Después de procesar y analizar los datos, es común guardar el resultado. Pandas permite exportar los DataFrame a diferentes formatos, como CSV, Excel, entre otros."
      ],
      "metadata": {
        "id": "Sp3xMa8Opj22"
      }
    },
    {
      "cell_type": "code",
      "source": [
        "df_filtrado.to_csv('datos_modificados.csv', index=False)"
      ],
      "metadata": {
        "id": "LRuNR_QCpo1D"
      },
      "execution_count": null,
      "outputs": []
    },
    {
      "cell_type": "markdown",
      "source": [
        "# **Maplotlib**\n",
        "[Matplotlib](https://matplotlib.org/) (**Mat**-h **Plot** **Lib**rary)\n",
        "\n",
        "<img src=\"https://www.machinelearningplus.com/wp-content/uploads/2018/11/23_DensityPlot_With_Histogram_Matplotlib-min.png\" width=300px>\n",
        "\n",
        "<img src=\"https://www.machinelearningplus.com/wp-content/uploads/2018/11/29_PyramidPlot_Matplotlib-min.png\" width=300px>\n",
        "<img src=\"https://www.machinelearningplus.com/wp-content/uploads/2018/11/36_TimeSeries_Peaks_Troughs_Matplotlib-min.png\" width=300px>"
      ],
      "metadata": {
        "id": "DiGUZIC1qx0S"
      }
    },
    {
      "cell_type": "markdown",
      "source": [
        "##  Introducción a Matplotlib\n",
        "\n",
        "Matplotlib es una librería de visualización de datos en Python que permite la creación de gráficos estáticos, animados e interactivos. Es muy flexible y se utiliza comúnmente para hacer gráficos y visualizaciones de datos de manera sencilla."
      ],
      "metadata": {
        "id": "9YZXWfZZrlHs"
      }
    },
    {
      "cell_type": "code",
      "source": [
        "import matplotlib.pyplot as plt\n"
      ],
      "metadata": {
        "id": "UrXFloVurs8R"
      },
      "execution_count": 17,
      "outputs": []
    },
    {
      "cell_type": "markdown",
      "source": [
        "## Creación de un Gráfico Simple\n"
      ],
      "metadata": {
        "id": "8PRA8cLBrwvk"
      }
    },
    {
      "cell_type": "code",
      "source": [
        "plt.plot([1, 2, 3, 4], [1, 4, 9, 16])\n",
        "plt.show()"
      ],
      "metadata": {
        "id": "BQssqqRyr3PQ"
      },
      "execution_count": null,
      "outputs": []
    },
    {
      "cell_type": "markdown",
      "source": [
        "## Ejemplos de gráficos con el dataset de iris"
      ],
      "metadata": {
        "id": "MDpbPvVyr_ry"
      }
    },
    {
      "cell_type": "code",
      "source": [
        "import seaborn as sns\n",
        "iris = sns.load_dataset('iris')\n",
        "iris.head()"
      ],
      "metadata": {
        "id": "nw2pa3sdsC1a"
      },
      "execution_count": null,
      "outputs": []
    },
    {
      "cell_type": "code",
      "source": [
        "# Gráfico de Dispersión\n",
        "\n",
        "plt.scatter(iris['sepal_length'], iris['sepal_width'])\n",
        "plt.title('Gráfico de Dispersión del Largo y Ancho del Sépalo de Iris')\n",
        "plt.xlabel('Largo del Sépalo (cm)')\n",
        "plt.ylabel('Ancho del Sépalo (cm)')\n",
        "plt.show()"
      ],
      "metadata": {
        "id": "t9svYo4NtDkN"
      },
      "execution_count": null,
      "outputs": []
    },
    {
      "cell_type": "code",
      "source": [
        "# Histograma\n",
        "\n",
        "plt.hist(iris['petal_length'], bins=20, color='green')\n",
        "plt.title('Histograma del Largo del Pétalo de Iris')\n",
        "plt.xlabel('Largo del Pétalo (cm)')\n",
        "plt.ylabel('Frecuencia')\n",
        "plt.show()"
      ],
      "metadata": {
        "id": "x67-iOCWtE8u"
      },
      "execution_count": null,
      "outputs": []
    },
    {
      "cell_type": "code",
      "source": [
        "# Grafico de barras\n",
        "\n",
        "promedio_petal_length = iris.groupby('species')['petal_length'].mean()\n",
        "promedio_petal_length.plot(kind='bar', color=['red', 'blue', 'green'])\n",
        "plt.title('Promedio del Largo del Pétalo por Especie')\n",
        "plt.xlabel('Especie')\n",
        "plt.ylabel('Promedio del Largo del Pétalo (cm)')\n",
        "plt.show()"
      ],
      "metadata": {
        "id": "FQqmJFnZtGdr"
      },
      "execution_count": null,
      "outputs": []
    }
  ]
}